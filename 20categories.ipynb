{
  "nbformat": 4,
  "nbformat_minor": 0,
  "metadata": {
    "colab": {
      "name": "20categories.ipynb",
      "provenance": [],
      "collapsed_sections": []
    },
    "kernelspec": {
      "name": "python3",
      "display_name": "Python 3"
    }
  },
  "cells": [
    {
      "cell_type": "markdown",
      "metadata": {
        "id": "ywqdFZSiz9P-",
        "colab_type": "text"
      },
      "source": [
        "**Import required libaries**"
      ]
    },
    {
      "cell_type": "code",
      "metadata": {
        "id": "iDBexmknO0tO",
        "colab_type": "code",
        "colab": {
          "base_uri": "https://localhost:8080/",
          "height": 34
        },
        "outputId": "1c591235-eaa0-48cc-b5f6-5e29c9a5db2e"
      },
      "source": [
        "from keras.layers import Dense, Embedding, LSTM, SpatialDropout1D\n",
        "from keras.models import Sequential\n",
        "from sklearn.feature_extraction.text import CountVectorizer\n",
        "from keras.preprocessing.text import Tokenizer\n",
        "from keras.preprocessing.sequence import pad_sequences\n",
        "from sklearn.model_selection import train_test_split\n",
        "from keras.utils.np_utils import to_categorical\n",
        "from keras.callbacks import EarlyStopping\n"
      ],
      "execution_count": null,
      "outputs": [
        {
          "output_type": "stream",
          "text": [
            "Using TensorFlow backend.\n"
          ],
          "name": "stderr"
        }
      ]
    },
    {
      "cell_type": "markdown",
      "metadata": {
        "id": "JNEPcjiP9v7f",
        "colab_type": "text"
      },
      "source": [
        "**Connect to drive**"
      ]
    },
    {
      "cell_type": "code",
      "metadata": {
        "id": "xa42HDixAyce",
        "colab_type": "code",
        "colab": {
          "base_uri": "https://localhost:8080/",
          "height": 34
        },
        "outputId": "31cb21ee-09db-40b3-8b48-e693c35748ee"
      },
      "source": [
        "from google.colab import drive\n",
        "drive.mount('/content/drive')"
      ],
      "execution_count": null,
      "outputs": [
        {
          "output_type": "stream",
          "text": [
            "Drive already mounted at /content/drive; to attempt to forcibly remount, call drive.mount(\"/content/drive\", force_remount=True).\n"
          ],
          "name": "stdout"
        }
      ]
    },
    {
      "cell_type": "markdown",
      "metadata": {
        "id": "T1pTWOxG-COA",
        "colab_type": "text"
      },
      "source": [
        "**Read json formate Data**"
      ]
    },
    {
      "cell_type": "code",
      "metadata": {
        "id": "Vbewpl4kO5mO",
        "colab_type": "code",
        "colab": {
          "base_uri": "https://localhost:8080/",
          "height": 419
        },
        "outputId": "958507a1-ba00-4ad9-9145-f7461017035a"
      },
      "source": [
        "# Loading Data\n",
        "import pandas as pd\n",
        "df = pd.read_json (r'/content/drive/My Drive/news.json',lines=True)\n",
        "df\n"
      ],
      "execution_count": null,
      "outputs": [
        {
          "output_type": "execute_result",
          "data": {
            "text/html": [
              "<div>\n",
              "<style scoped>\n",
              "    .dataframe tbody tr th:only-of-type {\n",
              "        vertical-align: middle;\n",
              "    }\n",
              "\n",
              "    .dataframe tbody tr th {\n",
              "        vertical-align: top;\n",
              "    }\n",
              "\n",
              "    .dataframe thead th {\n",
              "        text-align: right;\n",
              "    }\n",
              "</style>\n",
              "<table border=\"1\" class=\"dataframe\">\n",
              "  <thead>\n",
              "    <tr style=\"text-align: right;\">\n",
              "      <th></th>\n",
              "      <th>category</th>\n",
              "      <th>headline</th>\n",
              "      <th>authors</th>\n",
              "      <th>link</th>\n",
              "      <th>short_description</th>\n",
              "      <th>date</th>\n",
              "    </tr>\n",
              "  </thead>\n",
              "  <tbody>\n",
              "    <tr>\n",
              "      <th>0</th>\n",
              "      <td>CRIME</td>\n",
              "      <td>There Were 2 Mass Shootings In Texas Last Week...</td>\n",
              "      <td>Melissa Jeltsen</td>\n",
              "      <td>https://www.huffingtonpost.com/entry/texas-ama...</td>\n",
              "      <td>She left her husband. He killed their children...</td>\n",
              "      <td>2018-05-26</td>\n",
              "    </tr>\n",
              "    <tr>\n",
              "      <th>1</th>\n",
              "      <td>ENTERTAINMENT</td>\n",
              "      <td>Will Smith Joins Diplo And Nicky Jam For The 2...</td>\n",
              "      <td>Andy McDonald</td>\n",
              "      <td>https://www.huffingtonpost.com/entry/will-smit...</td>\n",
              "      <td>Of course it has a song.</td>\n",
              "      <td>2018-05-26</td>\n",
              "    </tr>\n",
              "    <tr>\n",
              "      <th>2</th>\n",
              "      <td>ENTERTAINMENT</td>\n",
              "      <td>Hugh Grant Marries For The First Time At Age 57</td>\n",
              "      <td>Ron Dicker</td>\n",
              "      <td>https://www.huffingtonpost.com/entry/hugh-gran...</td>\n",
              "      <td>The actor and his longtime girlfriend Anna Ebe...</td>\n",
              "      <td>2018-05-26</td>\n",
              "    </tr>\n",
              "    <tr>\n",
              "      <th>3</th>\n",
              "      <td>ENTERTAINMENT</td>\n",
              "      <td>Jim Carrey Blasts 'Castrato' Adam Schiff And D...</td>\n",
              "      <td>Ron Dicker</td>\n",
              "      <td>https://www.huffingtonpost.com/entry/jim-carre...</td>\n",
              "      <td>The actor gives Dems an ass-kicking for not fi...</td>\n",
              "      <td>2018-05-26</td>\n",
              "    </tr>\n",
              "    <tr>\n",
              "      <th>4</th>\n",
              "      <td>ENTERTAINMENT</td>\n",
              "      <td>Julianna Margulies Uses Donald Trump Poop Bags...</td>\n",
              "      <td>Ron Dicker</td>\n",
              "      <td>https://www.huffingtonpost.com/entry/julianna-...</td>\n",
              "      <td>The \"Dietland\" actress said using the bags is ...</td>\n",
              "      <td>2018-05-26</td>\n",
              "    </tr>\n",
              "    <tr>\n",
              "      <th>...</th>\n",
              "      <td>...</td>\n",
              "      <td>...</td>\n",
              "      <td>...</td>\n",
              "      <td>...</td>\n",
              "      <td>...</td>\n",
              "      <td>...</td>\n",
              "    </tr>\n",
              "    <tr>\n",
              "      <th>200848</th>\n",
              "      <td>TECH</td>\n",
              "      <td>RIM CEO Thorsten Heins' 'Significant' Plans Fo...</td>\n",
              "      <td>Reuters, Reuters</td>\n",
              "      <td>https://www.huffingtonpost.com/entry/rim-ceo-t...</td>\n",
              "      <td>Verizon Wireless and AT&amp;T are already promotin...</td>\n",
              "      <td>2012-01-28</td>\n",
              "    </tr>\n",
              "    <tr>\n",
              "      <th>200849</th>\n",
              "      <td>SPORTS</td>\n",
              "      <td>Maria Sharapova Stunned By Victoria Azarenka I...</td>\n",
              "      <td></td>\n",
              "      <td>https://www.huffingtonpost.com/entry/maria-sha...</td>\n",
              "      <td>Afterward, Azarenka, more effusive with the pr...</td>\n",
              "      <td>2012-01-28</td>\n",
              "    </tr>\n",
              "    <tr>\n",
              "      <th>200850</th>\n",
              "      <td>SPORTS</td>\n",
              "      <td>Giants Over Patriots, Jets Over Colts Among  M...</td>\n",
              "      <td></td>\n",
              "      <td>https://www.huffingtonpost.com/entry/super-bow...</td>\n",
              "      <td>Leading up to Super Bowl XLVI, the most talked...</td>\n",
              "      <td>2012-01-28</td>\n",
              "    </tr>\n",
              "    <tr>\n",
              "      <th>200851</th>\n",
              "      <td>SPORTS</td>\n",
              "      <td>Aldon Smith Arrested: 49ers Linebacker Busted ...</td>\n",
              "      <td></td>\n",
              "      <td>https://www.huffingtonpost.com/entry/aldon-smi...</td>\n",
              "      <td>CORRECTION: An earlier version of this story i...</td>\n",
              "      <td>2012-01-28</td>\n",
              "    </tr>\n",
              "    <tr>\n",
              "      <th>200852</th>\n",
              "      <td>SPORTS</td>\n",
              "      <td>Dwight Howard Rips Teammates After Magic Loss ...</td>\n",
              "      <td></td>\n",
              "      <td>https://www.huffingtonpost.com/entry/dwight-ho...</td>\n",
              "      <td>The five-time all-star center tore into his te...</td>\n",
              "      <td>2012-01-28</td>\n",
              "    </tr>\n",
              "  </tbody>\n",
              "</table>\n",
              "<p>200853 rows × 6 columns</p>\n",
              "</div>"
            ],
            "text/plain": [
              "             category  ...       date\n",
              "0               CRIME  ... 2018-05-26\n",
              "1       ENTERTAINMENT  ... 2018-05-26\n",
              "2       ENTERTAINMENT  ... 2018-05-26\n",
              "3       ENTERTAINMENT  ... 2018-05-26\n",
              "4       ENTERTAINMENT  ... 2018-05-26\n",
              "...               ...  ...        ...\n",
              "200848           TECH  ... 2012-01-28\n",
              "200849         SPORTS  ... 2012-01-28\n",
              "200850         SPORTS  ... 2012-01-28\n",
              "200851         SPORTS  ... 2012-01-28\n",
              "200852         SPORTS  ... 2012-01-28\n",
              "\n",
              "[200853 rows x 6 columns]"
            ]
          },
          "metadata": {
            "tags": []
          },
          "execution_count": 3
        }
      ]
    },
    {
      "cell_type": "code",
      "metadata": {
        "id": "2aC94dIbbemK",
        "colab_type": "code",
        "colab": {
          "base_uri": "https://localhost:8080/",
          "height": 419
        },
        "outputId": "602d6256-3134-4803-c205-f5a93c8ca5b8"
      },
      "source": [
        "import pandas as pd\n",
        "df = pd.read_json (r'/content/drive/My Drive/news.json',lines=True)\n",
        "df = df[['category','headline','short_description']]\n",
        "df"
      ],
      "execution_count": null,
      "outputs": [
        {
          "output_type": "execute_result",
          "data": {
            "text/html": [
              "<div>\n",
              "<style scoped>\n",
              "    .dataframe tbody tr th:only-of-type {\n",
              "        vertical-align: middle;\n",
              "    }\n",
              "\n",
              "    .dataframe tbody tr th {\n",
              "        vertical-align: top;\n",
              "    }\n",
              "\n",
              "    .dataframe thead th {\n",
              "        text-align: right;\n",
              "    }\n",
              "</style>\n",
              "<table border=\"1\" class=\"dataframe\">\n",
              "  <thead>\n",
              "    <tr style=\"text-align: right;\">\n",
              "      <th></th>\n",
              "      <th>category</th>\n",
              "      <th>headline</th>\n",
              "      <th>short_description</th>\n",
              "    </tr>\n",
              "  </thead>\n",
              "  <tbody>\n",
              "    <tr>\n",
              "      <th>0</th>\n",
              "      <td>CRIME</td>\n",
              "      <td>There Were 2 Mass Shootings In Texas Last Week...</td>\n",
              "      <td>She left her husband. He killed their children...</td>\n",
              "    </tr>\n",
              "    <tr>\n",
              "      <th>1</th>\n",
              "      <td>ENTERTAINMENT</td>\n",
              "      <td>Will Smith Joins Diplo And Nicky Jam For The 2...</td>\n",
              "      <td>Of course it has a song.</td>\n",
              "    </tr>\n",
              "    <tr>\n",
              "      <th>2</th>\n",
              "      <td>ENTERTAINMENT</td>\n",
              "      <td>Hugh Grant Marries For The First Time At Age 57</td>\n",
              "      <td>The actor and his longtime girlfriend Anna Ebe...</td>\n",
              "    </tr>\n",
              "    <tr>\n",
              "      <th>3</th>\n",
              "      <td>ENTERTAINMENT</td>\n",
              "      <td>Jim Carrey Blasts 'Castrato' Adam Schiff And D...</td>\n",
              "      <td>The actor gives Dems an ass-kicking for not fi...</td>\n",
              "    </tr>\n",
              "    <tr>\n",
              "      <th>4</th>\n",
              "      <td>ENTERTAINMENT</td>\n",
              "      <td>Julianna Margulies Uses Donald Trump Poop Bags...</td>\n",
              "      <td>The \"Dietland\" actress said using the bags is ...</td>\n",
              "    </tr>\n",
              "    <tr>\n",
              "      <th>...</th>\n",
              "      <td>...</td>\n",
              "      <td>...</td>\n",
              "      <td>...</td>\n",
              "    </tr>\n",
              "    <tr>\n",
              "      <th>200848</th>\n",
              "      <td>TECH</td>\n",
              "      <td>RIM CEO Thorsten Heins' 'Significant' Plans Fo...</td>\n",
              "      <td>Verizon Wireless and AT&amp;T are already promotin...</td>\n",
              "    </tr>\n",
              "    <tr>\n",
              "      <th>200849</th>\n",
              "      <td>SPORTS</td>\n",
              "      <td>Maria Sharapova Stunned By Victoria Azarenka I...</td>\n",
              "      <td>Afterward, Azarenka, more effusive with the pr...</td>\n",
              "    </tr>\n",
              "    <tr>\n",
              "      <th>200850</th>\n",
              "      <td>SPORTS</td>\n",
              "      <td>Giants Over Patriots, Jets Over Colts Among  M...</td>\n",
              "      <td>Leading up to Super Bowl XLVI, the most talked...</td>\n",
              "    </tr>\n",
              "    <tr>\n",
              "      <th>200851</th>\n",
              "      <td>SPORTS</td>\n",
              "      <td>Aldon Smith Arrested: 49ers Linebacker Busted ...</td>\n",
              "      <td>CORRECTION: An earlier version of this story i...</td>\n",
              "    </tr>\n",
              "    <tr>\n",
              "      <th>200852</th>\n",
              "      <td>SPORTS</td>\n",
              "      <td>Dwight Howard Rips Teammates After Magic Loss ...</td>\n",
              "      <td>The five-time all-star center tore into his te...</td>\n",
              "    </tr>\n",
              "  </tbody>\n",
              "</table>\n",
              "<p>200853 rows × 3 columns</p>\n",
              "</div>"
            ],
            "text/plain": [
              "             category  ...                                  short_description\n",
              "0               CRIME  ...  She left her husband. He killed their children...\n",
              "1       ENTERTAINMENT  ...                           Of course it has a song.\n",
              "2       ENTERTAINMENT  ...  The actor and his longtime girlfriend Anna Ebe...\n",
              "3       ENTERTAINMENT  ...  The actor gives Dems an ass-kicking for not fi...\n",
              "4       ENTERTAINMENT  ...  The \"Dietland\" actress said using the bags is ...\n",
              "...               ...  ...                                                ...\n",
              "200848           TECH  ...  Verizon Wireless and AT&T are already promotin...\n",
              "200849         SPORTS  ...  Afterward, Azarenka, more effusive with the pr...\n",
              "200850         SPORTS  ...  Leading up to Super Bowl XLVI, the most talked...\n",
              "200851         SPORTS  ...  CORRECTION: An earlier version of this story i...\n",
              "200852         SPORTS  ...  The five-time all-star center tore into his te...\n",
              "\n",
              "[200853 rows x 3 columns]"
            ]
          },
          "metadata": {
            "tags": []
          },
          "execution_count": 5
        }
      ]
    },
    {
      "cell_type": "code",
      "metadata": {
        "id": "MgyKjqwBZ8Yp",
        "colab_type": "code",
        "colab": {
          "base_uri": "https://localhost:8080/",
          "height": 419
        },
        "outputId": "6c52d69f-08c4-4e5c-e922-fbf20953a6d4"
      },
      "source": [
        "# Selecting data\n",
        "df = df[['category','headline','short_description']]\n",
        "df"
      ],
      "execution_count": null,
      "outputs": [
        {
          "output_type": "execute_result",
          "data": {
            "text/html": [
              "<div>\n",
              "<style scoped>\n",
              "    .dataframe tbody tr th:only-of-type {\n",
              "        vertical-align: middle;\n",
              "    }\n",
              "\n",
              "    .dataframe tbody tr th {\n",
              "        vertical-align: top;\n",
              "    }\n",
              "\n",
              "    .dataframe thead th {\n",
              "        text-align: right;\n",
              "    }\n",
              "</style>\n",
              "<table border=\"1\" class=\"dataframe\">\n",
              "  <thead>\n",
              "    <tr style=\"text-align: right;\">\n",
              "      <th></th>\n",
              "      <th>category</th>\n",
              "      <th>headline</th>\n",
              "      <th>short_description</th>\n",
              "    </tr>\n",
              "  </thead>\n",
              "  <tbody>\n",
              "    <tr>\n",
              "      <th>0</th>\n",
              "      <td>CRIME</td>\n",
              "      <td>There Were 2 Mass Shootings In Texas Last Week...</td>\n",
              "      <td>She left her husband. He killed their children...</td>\n",
              "    </tr>\n",
              "    <tr>\n",
              "      <th>1</th>\n",
              "      <td>ENTERTAINMENT</td>\n",
              "      <td>Will Smith Joins Diplo And Nicky Jam For The 2...</td>\n",
              "      <td>Of course it has a song.</td>\n",
              "    </tr>\n",
              "    <tr>\n",
              "      <th>2</th>\n",
              "      <td>ENTERTAINMENT</td>\n",
              "      <td>Hugh Grant Marries For The First Time At Age 57</td>\n",
              "      <td>The actor and his longtime girlfriend Anna Ebe...</td>\n",
              "    </tr>\n",
              "    <tr>\n",
              "      <th>3</th>\n",
              "      <td>ENTERTAINMENT</td>\n",
              "      <td>Jim Carrey Blasts 'Castrato' Adam Schiff And D...</td>\n",
              "      <td>The actor gives Dems an ass-kicking for not fi...</td>\n",
              "    </tr>\n",
              "    <tr>\n",
              "      <th>4</th>\n",
              "      <td>ENTERTAINMENT</td>\n",
              "      <td>Julianna Margulies Uses Donald Trump Poop Bags...</td>\n",
              "      <td>The \"Dietland\" actress said using the bags is ...</td>\n",
              "    </tr>\n",
              "    <tr>\n",
              "      <th>...</th>\n",
              "      <td>...</td>\n",
              "      <td>...</td>\n",
              "      <td>...</td>\n",
              "    </tr>\n",
              "    <tr>\n",
              "      <th>200848</th>\n",
              "      <td>TECH</td>\n",
              "      <td>RIM CEO Thorsten Heins' 'Significant' Plans Fo...</td>\n",
              "      <td>Verizon Wireless and AT&amp;T are already promotin...</td>\n",
              "    </tr>\n",
              "    <tr>\n",
              "      <th>200849</th>\n",
              "      <td>SPORTS</td>\n",
              "      <td>Maria Sharapova Stunned By Victoria Azarenka I...</td>\n",
              "      <td>Afterward, Azarenka, more effusive with the pr...</td>\n",
              "    </tr>\n",
              "    <tr>\n",
              "      <th>200850</th>\n",
              "      <td>SPORTS</td>\n",
              "      <td>Giants Over Patriots, Jets Over Colts Among  M...</td>\n",
              "      <td>Leading up to Super Bowl XLVI, the most talked...</td>\n",
              "    </tr>\n",
              "    <tr>\n",
              "      <th>200851</th>\n",
              "      <td>SPORTS</td>\n",
              "      <td>Aldon Smith Arrested: 49ers Linebacker Busted ...</td>\n",
              "      <td>CORRECTION: An earlier version of this story i...</td>\n",
              "    </tr>\n",
              "    <tr>\n",
              "      <th>200852</th>\n",
              "      <td>SPORTS</td>\n",
              "      <td>Dwight Howard Rips Teammates After Magic Loss ...</td>\n",
              "      <td>The five-time all-star center tore into his te...</td>\n",
              "    </tr>\n",
              "  </tbody>\n",
              "</table>\n",
              "<p>200853 rows × 3 columns</p>\n",
              "</div>"
            ],
            "text/plain": [
              "             category  ...                                  short_description\n",
              "0               CRIME  ...  She left her husband. He killed their children...\n",
              "1       ENTERTAINMENT  ...                           Of course it has a song.\n",
              "2       ENTERTAINMENT  ...  The actor and his longtime girlfriend Anna Ebe...\n",
              "3       ENTERTAINMENT  ...  The actor gives Dems an ass-kicking for not fi...\n",
              "4       ENTERTAINMENT  ...  The \"Dietland\" actress said using the bags is ...\n",
              "...               ...  ...                                                ...\n",
              "200848           TECH  ...  Verizon Wireless and AT&T are already promotin...\n",
              "200849         SPORTS  ...  Afterward, Azarenka, more effusive with the pr...\n",
              "200850         SPORTS  ...  Leading up to Super Bowl XLVI, the most talked...\n",
              "200851         SPORTS  ...  CORRECTION: An earlier version of this story i...\n",
              "200852         SPORTS  ...  The five-time all-star center tore into his te...\n",
              "\n",
              "[200853 rows x 3 columns]"
            ]
          },
          "metadata": {
            "tags": []
          },
          "execution_count": 6
        }
      ]
    },
    {
      "cell_type": "code",
      "metadata": {
        "id": "kqCwDL5QPa5h",
        "colab_type": "code",
        "colab": {}
      },
      "source": [
        ""
      ],
      "execution_count": null,
      "outputs": []
    },
    {
      "cell_type": "markdown",
      "metadata": {
        "id": "Fs-QrwBh-G9m",
        "colab_type": "text"
      },
      "source": [
        "**Data Tranformation**"
      ]
    },
    {
      "cell_type": "code",
      "metadata": {
        "id": "xdAmp3XNPejp",
        "colab_type": "code",
        "colab": {
          "base_uri": "https://localhost:8080/",
          "height": 204
        },
        "outputId": "593ec448-b5e8-42bd-90db-b64f9a20fa1d"
      },
      "source": [
        "# Data transformation\n",
        "df['text'] = df['headline'] + df['short_description']\n",
        "df = df[['category','text']]\n",
        "df.head()"
      ],
      "execution_count": null,
      "outputs": [
        {
          "output_type": "execute_result",
          "data": {
            "text/html": [
              "<div>\n",
              "<style scoped>\n",
              "    .dataframe tbody tr th:only-of-type {\n",
              "        vertical-align: middle;\n",
              "    }\n",
              "\n",
              "    .dataframe tbody tr th {\n",
              "        vertical-align: top;\n",
              "    }\n",
              "\n",
              "    .dataframe thead th {\n",
              "        text-align: right;\n",
              "    }\n",
              "</style>\n",
              "<table border=\"1\" class=\"dataframe\">\n",
              "  <thead>\n",
              "    <tr style=\"text-align: right;\">\n",
              "      <th></th>\n",
              "      <th>category</th>\n",
              "      <th>text</th>\n",
              "    </tr>\n",
              "  </thead>\n",
              "  <tbody>\n",
              "    <tr>\n",
              "      <th>0</th>\n",
              "      <td>CRIME</td>\n",
              "      <td>There Were 2 Mass Shootings In Texas Last Week...</td>\n",
              "    </tr>\n",
              "    <tr>\n",
              "      <th>1</th>\n",
              "      <td>ENTERTAINMENT</td>\n",
              "      <td>Will Smith Joins Diplo And Nicky Jam For The 2...</td>\n",
              "    </tr>\n",
              "    <tr>\n",
              "      <th>2</th>\n",
              "      <td>ENTERTAINMENT</td>\n",
              "      <td>Hugh Grant Marries For The First Time At Age 5...</td>\n",
              "    </tr>\n",
              "    <tr>\n",
              "      <th>3</th>\n",
              "      <td>ENTERTAINMENT</td>\n",
              "      <td>Jim Carrey Blasts 'Castrato' Adam Schiff And D...</td>\n",
              "    </tr>\n",
              "    <tr>\n",
              "      <th>4</th>\n",
              "      <td>ENTERTAINMENT</td>\n",
              "      <td>Julianna Margulies Uses Donald Trump Poop Bags...</td>\n",
              "    </tr>\n",
              "  </tbody>\n",
              "</table>\n",
              "</div>"
            ],
            "text/plain": [
              "        category                                               text\n",
              "0          CRIME  There Were 2 Mass Shootings In Texas Last Week...\n",
              "1  ENTERTAINMENT  Will Smith Joins Diplo And Nicky Jam For The 2...\n",
              "2  ENTERTAINMENT  Hugh Grant Marries For The First Time At Age 5...\n",
              "3  ENTERTAINMENT  Jim Carrey Blasts 'Castrato' Adam Schiff And D...\n",
              "4  ENTERTAINMENT  Julianna Margulies Uses Donald Trump Poop Bags..."
            ]
          },
          "metadata": {
            "tags": []
          },
          "execution_count": 7
        }
      ]
    },
    {
      "cell_type": "markdown",
      "metadata": {
        "id": "qZ4dk3AxPg30",
        "colab_type": "text"
      },
      "source": [
        "**group by category, count checking**"
      ]
    },
    {
      "cell_type": "code",
      "metadata": {
        "id": "KztbwiNfPopS",
        "colab_type": "code",
        "colab": {
          "base_uri": "https://localhost:8080/",
          "height": 1000
        },
        "outputId": "66d8ce51-8058-48d4-f2ea-9f2f72b112f4"
      },
      "source": [
        "df.groupby('category').count()"
      ],
      "execution_count": null,
      "outputs": [
        {
          "output_type": "execute_result",
          "data": {
            "text/html": [
              "<div>\n",
              "<style scoped>\n",
              "    .dataframe tbody tr th:only-of-type {\n",
              "        vertical-align: middle;\n",
              "    }\n",
              "\n",
              "    .dataframe tbody tr th {\n",
              "        vertical-align: top;\n",
              "    }\n",
              "\n",
              "    .dataframe thead th {\n",
              "        text-align: right;\n",
              "    }\n",
              "</style>\n",
              "<table border=\"1\" class=\"dataframe\">\n",
              "  <thead>\n",
              "    <tr style=\"text-align: right;\">\n",
              "      <th></th>\n",
              "      <th>text</th>\n",
              "    </tr>\n",
              "    <tr>\n",
              "      <th>category</th>\n",
              "      <th></th>\n",
              "    </tr>\n",
              "  </thead>\n",
              "  <tbody>\n",
              "    <tr>\n",
              "      <th>ARTS</th>\n",
              "      <td>1509</td>\n",
              "    </tr>\n",
              "    <tr>\n",
              "      <th>ARTS &amp; CULTURE</th>\n",
              "      <td>1339</td>\n",
              "    </tr>\n",
              "    <tr>\n",
              "      <th>BLACK VOICES</th>\n",
              "      <td>4528</td>\n",
              "    </tr>\n",
              "    <tr>\n",
              "      <th>BUSINESS</th>\n",
              "      <td>5937</td>\n",
              "    </tr>\n",
              "    <tr>\n",
              "      <th>COLLEGE</th>\n",
              "      <td>1144</td>\n",
              "    </tr>\n",
              "    <tr>\n",
              "      <th>COMEDY</th>\n",
              "      <td>5175</td>\n",
              "    </tr>\n",
              "    <tr>\n",
              "      <th>CRIME</th>\n",
              "      <td>3405</td>\n",
              "    </tr>\n",
              "    <tr>\n",
              "      <th>CULTURE &amp; ARTS</th>\n",
              "      <td>1030</td>\n",
              "    </tr>\n",
              "    <tr>\n",
              "      <th>DIVORCE</th>\n",
              "      <td>3426</td>\n",
              "    </tr>\n",
              "    <tr>\n",
              "      <th>EDUCATION</th>\n",
              "      <td>1004</td>\n",
              "    </tr>\n",
              "    <tr>\n",
              "      <th>ENTERTAINMENT</th>\n",
              "      <td>16058</td>\n",
              "    </tr>\n",
              "    <tr>\n",
              "      <th>ENVIRONMENT</th>\n",
              "      <td>1323</td>\n",
              "    </tr>\n",
              "    <tr>\n",
              "      <th>FIFTY</th>\n",
              "      <td>1401</td>\n",
              "    </tr>\n",
              "    <tr>\n",
              "      <th>FOOD &amp; DRINK</th>\n",
              "      <td>6226</td>\n",
              "    </tr>\n",
              "    <tr>\n",
              "      <th>GOOD NEWS</th>\n",
              "      <td>1398</td>\n",
              "    </tr>\n",
              "    <tr>\n",
              "      <th>GREEN</th>\n",
              "      <td>2622</td>\n",
              "    </tr>\n",
              "    <tr>\n",
              "      <th>HEALTHY LIVING</th>\n",
              "      <td>6694</td>\n",
              "    </tr>\n",
              "    <tr>\n",
              "      <th>HOME &amp; LIVING</th>\n",
              "      <td>4195</td>\n",
              "    </tr>\n",
              "    <tr>\n",
              "      <th>IMPACT</th>\n",
              "      <td>3459</td>\n",
              "    </tr>\n",
              "    <tr>\n",
              "      <th>LATINO VOICES</th>\n",
              "      <td>1129</td>\n",
              "    </tr>\n",
              "    <tr>\n",
              "      <th>MEDIA</th>\n",
              "      <td>2815</td>\n",
              "    </tr>\n",
              "    <tr>\n",
              "      <th>MONEY</th>\n",
              "      <td>1707</td>\n",
              "    </tr>\n",
              "    <tr>\n",
              "      <th>PARENTING</th>\n",
              "      <td>8677</td>\n",
              "    </tr>\n",
              "    <tr>\n",
              "      <th>PARENTS</th>\n",
              "      <td>3955</td>\n",
              "    </tr>\n",
              "    <tr>\n",
              "      <th>POLITICS</th>\n",
              "      <td>32739</td>\n",
              "    </tr>\n",
              "    <tr>\n",
              "      <th>QUEER VOICES</th>\n",
              "      <td>6314</td>\n",
              "    </tr>\n",
              "    <tr>\n",
              "      <th>RELIGION</th>\n",
              "      <td>2556</td>\n",
              "    </tr>\n",
              "    <tr>\n",
              "      <th>SCIENCE</th>\n",
              "      <td>2178</td>\n",
              "    </tr>\n",
              "    <tr>\n",
              "      <th>SPORTS</th>\n",
              "      <td>4884</td>\n",
              "    </tr>\n",
              "    <tr>\n",
              "      <th>STYLE</th>\n",
              "      <td>2254</td>\n",
              "    </tr>\n",
              "    <tr>\n",
              "      <th>STYLE &amp; BEAUTY</th>\n",
              "      <td>9649</td>\n",
              "    </tr>\n",
              "    <tr>\n",
              "      <th>TASTE</th>\n",
              "      <td>2096</td>\n",
              "    </tr>\n",
              "    <tr>\n",
              "      <th>TECH</th>\n",
              "      <td>2082</td>\n",
              "    </tr>\n",
              "    <tr>\n",
              "      <th>THE WORLDPOST</th>\n",
              "      <td>3664</td>\n",
              "    </tr>\n",
              "    <tr>\n",
              "      <th>TRAVEL</th>\n",
              "      <td>9887</td>\n",
              "    </tr>\n",
              "    <tr>\n",
              "      <th>WEDDINGS</th>\n",
              "      <td>3651</td>\n",
              "    </tr>\n",
              "    <tr>\n",
              "      <th>WEIRD NEWS</th>\n",
              "      <td>2670</td>\n",
              "    </tr>\n",
              "    <tr>\n",
              "      <th>WELLNESS</th>\n",
              "      <td>17827</td>\n",
              "    </tr>\n",
              "    <tr>\n",
              "      <th>WOMEN</th>\n",
              "      <td>3490</td>\n",
              "    </tr>\n",
              "    <tr>\n",
              "      <th>WORLD NEWS</th>\n",
              "      <td>2177</td>\n",
              "    </tr>\n",
              "    <tr>\n",
              "      <th>WORLDPOST</th>\n",
              "      <td>2579</td>\n",
              "    </tr>\n",
              "  </tbody>\n",
              "</table>\n",
              "</div>"
            ],
            "text/plain": [
              "                 text\n",
              "category             \n",
              "ARTS             1509\n",
              "ARTS & CULTURE   1339\n",
              "BLACK VOICES     4528\n",
              "BUSINESS         5937\n",
              "COLLEGE          1144\n",
              "COMEDY           5175\n",
              "CRIME            3405\n",
              "CULTURE & ARTS   1030\n",
              "DIVORCE          3426\n",
              "EDUCATION        1004\n",
              "ENTERTAINMENT   16058\n",
              "ENVIRONMENT      1323\n",
              "FIFTY            1401\n",
              "FOOD & DRINK     6226\n",
              "GOOD NEWS        1398\n",
              "GREEN            2622\n",
              "HEALTHY LIVING   6694\n",
              "HOME & LIVING    4195\n",
              "IMPACT           3459\n",
              "LATINO VOICES    1129\n",
              "MEDIA            2815\n",
              "MONEY            1707\n",
              "PARENTING        8677\n",
              "PARENTS          3955\n",
              "POLITICS        32739\n",
              "QUEER VOICES     6314\n",
              "RELIGION         2556\n",
              "SCIENCE          2178\n",
              "SPORTS           4884\n",
              "STYLE            2254\n",
              "STYLE & BEAUTY   9649\n",
              "TASTE            2096\n",
              "TECH             2082\n",
              "THE WORLDPOST    3664\n",
              "TRAVEL           9887\n",
              "WEDDINGS         3651\n",
              "WEIRD NEWS       2670\n",
              "WELLNESS        17827\n",
              "WOMEN            3490\n",
              "WORLD NEWS       2177\n",
              "WORLDPOST        2579"
            ]
          },
          "metadata": {
            "tags": []
          },
          "execution_count": 8
        }
      ]
    },
    {
      "cell_type": "markdown",
      "metadata": {
        "id": "Te3T1qAq-Zdr",
        "colab_type": "text"
      },
      "source": [
        "**Merging ambiguous categories**"
      ]
    },
    {
      "cell_type": "code",
      "metadata": {
        "id": "kPZx1mkYQjVE",
        "colab_type": "code",
        "colab": {}
      },
      "source": [
        "# Data Transformation - Merging ambiguous categories \n",
        "df = df.replace({'category' : { 'ARTS & CULTURE' : 'ARTS', 'CULTURE & ARTS' : 'ARTS' }})\n",
        "df = df.replace({'category' : { 'LATINO VOICES' : 'VOICES', 'BLACK VOICES' : 'VOICES', 'QUEER VOICES' : 'VOICES' }})\n",
        "df = df.replace({'category' : { 'MONEY' : 'BUSINESS'}})\n",
        "df = df.replace({'category' : { 'COLLEGE' : 'EDUCATION' }})\n",
        "df = df.replace({'category' : { 'GREEN' : 'ENVIRONMENT' }})\n",
        "df = df.replace({'category' : { 'TASTE' : 'FOOD','FOOD & DRINK': 'FOOD' }})\n",
        "df = df.replace({'category' : { 'HEALTHY LIVING' : 'WELLNESS' }})\n",
        "df = df.replace({'category' : { 'PARENTS' : 'PARENTING' }})\n",
        "df = df.replace({'category' : { 'HOME & LIVING' : 'LIVING' }})\n",
        "df = df.replace({'category' : { 'STYLE & BEAUTY' : 'STYLE' }})\n",
        "df = df.replace({'category' : { 'THE WORLDPOST' : 'WORLD NEWS', 'WORLDPOST' : 'WORLD NEWS' }})"
      ],
      "execution_count": null,
      "outputs": []
    },
    {
      "cell_type": "markdown",
      "metadata": {
        "id": "Fj7Oa33V-jT_",
        "colab_type": "text"
      },
      "source": [
        "**20 categories**"
      ]
    },
    {
      "cell_type": "code",
      "metadata": {
        "id": "DVW8aBQwQox4",
        "colab_type": "code",
        "colab": {}
      },
      "source": [
        "df = df.loc[df['category'].isin(['ARTS','BUSINESS','CRIME','EDUCATION','SPORTS','ENVIRONMENT','FOOD','WELLNESS','STYLE','TECH','WOMEN','LIVING','IMPACT','PARENTING','RELIGION','SCIENCE','TRAVEL','POLITICS','WEDDINGS','ENTERTAINMENT'])]"
      ],
      "execution_count": null,
      "outputs": []
    },
    {
      "cell_type": "code",
      "metadata": {
        "id": "eNHkQPWr06-S",
        "colab_type": "code",
        "colab": {
          "base_uri": "https://localhost:8080/",
          "height": 700
        },
        "outputId": "095baaf1-3130-4089-d692-b2a94858f9a1"
      },
      "source": [
        "df.groupby('category').count()"
      ],
      "execution_count": null,
      "outputs": [
        {
          "output_type": "execute_result",
          "data": {
            "text/html": [
              "<div>\n",
              "<style scoped>\n",
              "    .dataframe tbody tr th:only-of-type {\n",
              "        vertical-align: middle;\n",
              "    }\n",
              "\n",
              "    .dataframe tbody tr th {\n",
              "        vertical-align: top;\n",
              "    }\n",
              "\n",
              "    .dataframe thead th {\n",
              "        text-align: right;\n",
              "    }\n",
              "</style>\n",
              "<table border=\"1\" class=\"dataframe\">\n",
              "  <thead>\n",
              "    <tr style=\"text-align: right;\">\n",
              "      <th></th>\n",
              "      <th>text</th>\n",
              "    </tr>\n",
              "    <tr>\n",
              "      <th>category</th>\n",
              "      <th></th>\n",
              "    </tr>\n",
              "  </thead>\n",
              "  <tbody>\n",
              "    <tr>\n",
              "      <th>ARTS</th>\n",
              "      <td>3878</td>\n",
              "    </tr>\n",
              "    <tr>\n",
              "      <th>BUSINESS</th>\n",
              "      <td>7644</td>\n",
              "    </tr>\n",
              "    <tr>\n",
              "      <th>CRIME</th>\n",
              "      <td>3405</td>\n",
              "    </tr>\n",
              "    <tr>\n",
              "      <th>EDUCATION</th>\n",
              "      <td>2148</td>\n",
              "    </tr>\n",
              "    <tr>\n",
              "      <th>ENTERTAINMENT</th>\n",
              "      <td>16058</td>\n",
              "    </tr>\n",
              "    <tr>\n",
              "      <th>ENVIRONMENT</th>\n",
              "      <td>3945</td>\n",
              "    </tr>\n",
              "    <tr>\n",
              "      <th>FOOD</th>\n",
              "      <td>8322</td>\n",
              "    </tr>\n",
              "    <tr>\n",
              "      <th>IMPACT</th>\n",
              "      <td>3459</td>\n",
              "    </tr>\n",
              "    <tr>\n",
              "      <th>LIVING</th>\n",
              "      <td>4195</td>\n",
              "    </tr>\n",
              "    <tr>\n",
              "      <th>PARENTING</th>\n",
              "      <td>12632</td>\n",
              "    </tr>\n",
              "    <tr>\n",
              "      <th>POLITICS</th>\n",
              "      <td>32739</td>\n",
              "    </tr>\n",
              "    <tr>\n",
              "      <th>RELIGION</th>\n",
              "      <td>2556</td>\n",
              "    </tr>\n",
              "    <tr>\n",
              "      <th>SCIENCE</th>\n",
              "      <td>2178</td>\n",
              "    </tr>\n",
              "    <tr>\n",
              "      <th>SPORTS</th>\n",
              "      <td>4884</td>\n",
              "    </tr>\n",
              "    <tr>\n",
              "      <th>STYLE</th>\n",
              "      <td>11903</td>\n",
              "    </tr>\n",
              "    <tr>\n",
              "      <th>TECH</th>\n",
              "      <td>2082</td>\n",
              "    </tr>\n",
              "    <tr>\n",
              "      <th>TRAVEL</th>\n",
              "      <td>9887</td>\n",
              "    </tr>\n",
              "    <tr>\n",
              "      <th>WEDDINGS</th>\n",
              "      <td>3651</td>\n",
              "    </tr>\n",
              "    <tr>\n",
              "      <th>WELLNESS</th>\n",
              "      <td>24521</td>\n",
              "    </tr>\n",
              "    <tr>\n",
              "      <th>WOMEN</th>\n",
              "      <td>3490</td>\n",
              "    </tr>\n",
              "  </tbody>\n",
              "</table>\n",
              "</div>"
            ],
            "text/plain": [
              "                text\n",
              "category            \n",
              "ARTS            3878\n",
              "BUSINESS        7644\n",
              "CRIME           3405\n",
              "EDUCATION       2148\n",
              "ENTERTAINMENT  16058\n",
              "ENVIRONMENT     3945\n",
              "FOOD            8322\n",
              "IMPACT          3459\n",
              "LIVING          4195\n",
              "PARENTING      12632\n",
              "POLITICS       32739\n",
              "RELIGION        2556\n",
              "SCIENCE         2178\n",
              "SPORTS          4884\n",
              "STYLE          11903\n",
              "TECH            2082\n",
              "TRAVEL          9887\n",
              "WEDDINGS        3651\n",
              "WELLNESS       24521\n",
              "WOMEN           3490"
            ]
          },
          "metadata": {
            "tags": []
          },
          "execution_count": 11
        }
      ]
    },
    {
      "cell_type": "markdown",
      "metadata": {
        "id": "J4Ru0rjX-pDm",
        "colab_type": "text"
      },
      "source": [
        "**Visualization Categories count**"
      ]
    },
    {
      "cell_type": "code",
      "metadata": {
        "id": "xvcbzQAnAFYr",
        "colab_type": "code",
        "colab": {
          "base_uri": "https://localhost:8080/",
          "height": 282
        },
        "outputId": "3eed4f1c-f686-4247-a7b2-5744d656be3b"
      },
      "source": [
        "df1 = df.category.value_counts()\n",
        "df1 = pd.DataFrame({'category':df1.index, 'count':df1.values})\n",
        "\n",
        "import matplotlib.pyplot as plt\n",
        "plt.barh(df1['category'],df1['count'])"
      ],
      "execution_count": null,
      "outputs": [
        {
          "output_type": "execute_result",
          "data": {
            "text/plain": [
              "<BarContainer object of 20 artists>"
            ]
          },
          "metadata": {
            "tags": []
          },
          "execution_count": 12
        },
        {
          "output_type": "display_data",
          "data": {
            "image/png": "[encoded data removed]",
            "text/plain": [
              "<Figure size 432x288 with 1 Axes>"
            ]
          },
          "metadata": {
            "tags": [],
            "needs_background": "light"
          }
        }
      ]
    },
    {
      "cell_type": "code",
      "metadata": {
        "id": "7za0LM_IQqww",
        "colab_type": "code",
        "colab": {
          "base_uri": "https://localhost:8080/",
          "height": 34
        },
        "outputId": "6ee931f2-1b31-4712-bdee-f78180eda835"
      },
      "source": [
        "(df1.category.value_counts()).count()"
      ],
      "execution_count": null,
      "outputs": [
        {
          "output_type": "execute_result",
          "data": {
            "text/plain": [
              "20"
            ]
          },
          "metadata": {
            "tags": []
          },
          "execution_count": 13
        }
      ]
    },
    {
      "cell_type": "code",
      "metadata": {
        "id": "hUjnxcFMRfT0",
        "colab_type": "code",
        "colab": {}
      },
      "source": [
        "import numpy as np\n",
        "no_of_categories = 2000\n",
        "jumble = df.reindex(np.random.permutation(df.index))\n",
        "ARTS = jumble[jumble['category'] == 'ARTS'][:no_of_categories]\n",
        "BUSINESS = jumble[jumble['category'] == 'BUSINESS'][:no_of_categories]\n",
        "EDUCATION = jumble[jumble['category'] == 'EDUCATION'][:no_of_categories]\n",
        "CRIME = jumble[jumble['category'] == 'CRIME'][:no_of_categories]\n",
        "SPORTS = jumble[jumble['category'] == 'SPORTS'][:no_of_categories]\n",
        "WELLNESS = jumble[jumble['category'] == 'WELLNESS'][:no_of_categories]\n",
        "FOOD = jumble[jumble['category'] == 'FOOD'][:no_of_categories]\n",
        "TECH = jumble[jumble['category'] == 'TECH'][:no_of_categories]\n",
        "STYLE = jumble[jumble['category'] == 'STYLE'][:no_of_categories]\n",
        "ENVIRONMENT = jumble[jumble['category'] == 'ENVIRONMENT'][:no_of_categories]\n",
        "ENTERTAINMENT = jumble[jumble['category'] == 'ENTERTAINMENT'][:no_of_categories]\n",
        "\n",
        "WOMEN = jumble[jumble['category'] == 'WOMEN'][:no_of_categories]\n",
        "LIVING = jumble[jumble['category'] == 'LIVING'][:no_of_categories]\n",
        "IMPACT = jumble[jumble['category'] == 'IMPACT'][:no_of_categories]\n",
        "PARENTING = jumble[jumble['category'] == 'PARENTING'][:no_of_categories]\n",
        "POLITICS = jumble[jumble['category'] == 'POLITICS'][:no_of_categories]\n",
        "RELIGION = jumble[jumble['category'] == 'RELIGION'][:no_of_categories]\n",
        "SCIENCE = jumble[jumble['category'] == 'SCIENCE'][:no_of_categories]\n",
        "TRAVEL = jumble[jumble['category'] == 'TRAVEL'][:no_of_categories]\n",
        "WEDDINGS = jumble[jumble['category'] == 'WEDDINGS'][:no_of_categories] \n",
        "\n",
        "\n",
        "merged = pd.concat([ARTS,BUSINESS,EDUCATION,CRIME,SPORTS,WELLNESS,FOOD,TECH,STYLE,ENVIRONMENT,ENTERTAINMENT,WOMEN,LIVING,IMPACT,PARENTING,POLITICS,RELIGION,SCIENCE,TRAVEL,WEDDINGS], ignore_index=True)\n",
        "#Shuffle the dataset\n",
        "merged = merged.reindex(np.random.permutation(merged.index))\n",
        "merged['LABEL'] = 0"
      ],
      "execution_count": null,
      "outputs": []
    },
    {
      "cell_type": "markdown",
      "metadata": {
        "id": "Gv2NBzrf-zFQ",
        "colab_type": "text"
      },
      "source": [
        "**Assign label**"
      ]
    },
    {
      "cell_type": "code",
      "metadata": {
        "id": "rHmpMGJESwTg",
        "colab_type": "code",
        "colab": {
          "base_uri": "https://localhost:8080/",
          "height": 544
        },
        "outputId": "f145d532-c634-4bfb-9f30-9d9eeb73caad"
      },
      "source": [
        "merged.loc[merged['category'] == 'ARTS', 'LABEL'] = 0\n",
        "merged.loc[merged['category'] == 'BUSINESS', 'LABEL'] = 1\n",
        "merged.loc[merged['category'] == 'EDUCATION', 'LABEL'] = 2\n",
        "merged.loc[merged['category'] == 'CRIME', 'LABEL'] = 3\n",
        "merged.loc[merged['category'] == 'SPORTS', 'LABEL'] = 4\n",
        "merged.loc[merged['category'] == 'WELLNESS', 'LABEL'] = 5\n",
        "merged.loc[merged['category'] == 'FOOD', 'LABEL'] = 6\n",
        "merged.loc[merged['category'] == 'TECH', 'LABEL'] = 7\n",
        "merged.loc[merged['category'] == 'STYLE', 'LABEL'] = 8\n",
        "merged.loc[merged['category'] == 'ENVIRONMENT', 'LABEL'] = 9\n",
        "\n",
        "merged.loc[merged['category'] == 'WOMEN', 'LABEL'] = 10\n",
        "merged.loc[merged['category'] == 'LIVING', 'LABEL'] = 11\n",
        "merged.loc[merged['category'] == 'IMPACT', 'LABEL'] = 12\n",
        "merged.loc[merged['category'] == 'PARENTIING', 'LABEL'] = 13\n",
        "merged.loc[merged['category'] == 'POLITICS', 'LABEL'] = 14\n",
        "merged.loc[merged['category'] == 'RELIGION', 'LABEL'] = 15\n",
        "merged.loc[merged['category'] == 'SCIENCE', 'LABEL'] = 16\n",
        "merged.loc[merged['category'] == 'TRAVEL', 'LABEL'] = 17\n",
        "merged.loc[merged['category'] == 'WEDDINGS', 'LABEL'] = 18\n",
        "merged.loc[merged['category'] == 'ENTERTAINMENT', 'LABEL'] = 19\n",
        "\n",
        "print(merged['LABEL'][:10])\n",
        "labels = to_categorical(merged['LABEL'], num_classes=20)\n",
        "print(labels[:20])\n",
        "if 'category' in merged.keys():\n",
        "    merged.drop(['category'], axis=1)"
      ],
      "execution_count": null,
      "outputs": [
        {
          "output_type": "stream",
          "text": [
            "348       0\n",
            "38226    18\n",
            "20844    19\n",
            "21521    19\n",
            "2194      1\n",
            "33165    15\n",
            "3364      1\n",
            "3007      1\n",
            "8622      4\n",
            "24464    11\n",
            "Name: LABEL, dtype: int64\n",
            "[[1. 0. 0. 0. 0. 0. 0. 0. 0. 0. 0. 0. 0. 0. 0. 0. 0. 0. 0. 0.]\n",
            " [0. 0. 0. 0. 0. 0. 0. 0. 0. 0. 0. 0. 0. 0. 0. 0. 0. 0. 1. 0.]\n",
            " [0. 0. 0. 0. 0. 0. 0. 0. 0. 0. 0. 0. 0. 0. 0. 0. 0. 0. 0. 1.]\n",
            " [0. 0. 0. 0. 0. 0. 0. 0. 0. 0. 0. 0. 0. 0. 0. 0. 0. 0. 0. 1.]\n",
            " [0. 1. 0. 0. 0. 0. 0. 0. 0. 0. 0. 0. 0. 0. 0. 0. 0. 0. 0. 0.]\n",
            " [0. 0. 0. 0. 0. 0. 0. 0. 0. 0. 0. 0. 0. 0. 0. 1. 0. 0. 0. 0.]\n",
            " [0. 1. 0. 0. 0. 0. 0. 0. 0. 0. 0. 0. 0. 0. 0. 0. 0. 0. 0. 0.]\n",
            " [0. 1. 0. 0. 0. 0. 0. 0. 0. 0. 0. 0. 0. 0. 0. 0. 0. 0. 0. 0.]\n",
            " [0. 0. 0. 0. 1. 0. 0. 0. 0. 0. 0. 0. 0. 0. 0. 0. 0. 0. 0. 0.]\n",
            " [0. 0. 0. 0. 0. 0. 0. 0. 0. 0. 0. 1. 0. 0. 0. 0. 0. 0. 0. 0.]\n",
            " [0. 0. 1. 0. 0. 0. 0. 0. 0. 0. 0. 0. 0. 0. 0. 0. 0. 0. 0. 0.]\n",
            " [0. 0. 0. 0. 0. 0. 0. 0. 0. 0. 0. 0. 0. 0. 0. 0. 0. 1. 0. 0.]\n",
            " [0. 0. 0. 0. 0. 0. 0. 1. 0. 0. 0. 0. 0. 0. 0. 0. 0. 0. 0. 0.]\n",
            " [0. 0. 0. 0. 1. 0. 0. 0. 0. 0. 0. 0. 0. 0. 0. 0. 0. 0. 0. 0.]\n",
            " [0. 0. 0. 0. 0. 0. 0. 0. 0. 0. 0. 0. 0. 0. 0. 1. 0. 0. 0. 0.]\n",
            " [0. 0. 0. 0. 0. 0. 0. 0. 0. 0. 0. 0. 0. 0. 0. 0. 0. 0. 1. 0.]\n",
            " [0. 0. 0. 0. 1. 0. 0. 0. 0. 0. 0. 0. 0. 0. 0. 0. 0. 0. 0. 0.]\n",
            " [0. 0. 0. 0. 0. 0. 0. 0. 0. 0. 0. 0. 1. 0. 0. 0. 0. 0. 0. 0.]\n",
            " [1. 0. 0. 0. 0. 0. 0. 0. 0. 0. 0. 0. 0. 0. 0. 0. 0. 0. 0. 0.]\n",
            " [0. 0. 0. 0. 0. 0. 0. 0. 0. 0. 0. 0. 0. 0. 0. 0. 0. 1. 0. 0.]]\n"
          ],
          "name": "stdout"
        }
      ]
    },
    {
      "cell_type": "markdown",
      "metadata": {
        "id": "ByNvT98z-6M3",
        "colab_type": "text"
      },
      "source": [
        "**Tokenization**"
      ]
    },
    {
      "cell_type": "code",
      "metadata": {
        "id": "aE8jicJWTbIn",
        "colab_type": "code",
        "colab": {
          "base_uri": "https://localhost:8080/",
          "height": 34
        },
        "outputId": "7c26147a-3f63-4873-bbe8-703c72cde12c"
      },
      "source": [
        "n_most_common_words = 15000\n",
        "max_len = 50\n",
        "# Removing punctuation from the text \n",
        "tokenizer = Tokenizer(num_words=n_most_common_words, filters='!\"#$%&()*+,-./:;<=>?@[\\]^_`{|}~', lower=True)\n",
        "tokenizer.fit_on_texts(merged['text'].values)\n",
        "sequences = tokenizer.texts_to_sequences(merged['text'].values)\n",
        "word_index = tokenizer.word_index\n",
        "print('Found %s unique tokens.' % len(word_index))\n",
        "\n",
        "X = pad_sequences(sequences, maxlen=max_len)"
      ],
      "execution_count": null,
      "outputs": [
        {
          "output_type": "stream",
          "text": [
            "Found 78012 unique tokens.\n"
          ],
          "name": "stdout"
        }
      ]
    },
    {
      "cell_type": "markdown",
      "metadata": {
        "id": "8nTJvZfq_PEf",
        "colab_type": "text"
      },
      "source": [
        "**Splitting data**"
      ]
    },
    {
      "cell_type": "code",
      "metadata": {
        "id": "ne0atJwPTtbb",
        "colab_type": "code",
        "colab": {}
      },
      "source": [
        "# Splitting the data into train and test\n",
        "X_train, X_test, y_train, y_test = train_test_split(X , labels, test_size=0.20, random_state=42)"
      ],
      "execution_count": null,
      "outputs": []
    },
    {
      "cell_type": "code",
      "metadata": {
        "id": "SQd3YdxnT6n1",
        "colab_type": "code",
        "colab": {}
      },
      "source": [
        "epochs = 35\n",
        "emb_dim = 100\n",
        "batch_size = 50"
      ],
      "execution_count": null,
      "outputs": []
    },
    {
      "cell_type": "code",
      "metadata": {
        "id": "F999a6OuT9AI",
        "colab_type": "code",
        "colab": {
          "base_uri": "https://localhost:8080/",
          "height": 306
        },
        "outputId": "ad9533a0-4694-4763-8b71-fedef116375f"
      },
      "source": [
        "model = Sequential()\n",
        "model.add(Embedding(n_most_common_words, emb_dim, input_length=X.shape[1]))\n",
        "model.add(SpatialDropout1D(0.7))\n",
        "model.add(LSTM(100, dropout=0.7, recurrent_dropout=0.7))\n",
        "model.add(Dense(20, activation='softmax'))\n",
        "model.compile(optimizer='adam', loss='categorical_crossentropy', metrics=['acc'])\n",
        "print(model.summary())"
      ],
      "execution_count": null,
      "outputs": [
        {
          "output_type": "stream",
          "text": [
            "Model: \"sequential_1\"\n",
            "_________________________________________________________________\n",
            "Layer (type)                 Output Shape              Param #   \n",
            "=================================================================\n",
            "embedding_1 (Embedding)      (None, 50, 100)           1500000   \n",
            "_________________________________________________________________\n",
            "spatial_dropout1d_1 (Spatial (None, 50, 100)           0         \n",
            "_________________________________________________________________\n",
            "lstm_1 (LSTM)                (None, 100)               80400     \n",
            "_________________________________________________________________\n",
            "dense_1 (Dense)              (None, 20)                2020      \n",
            "=================================================================\n",
            "Total params: 1,582,420\n",
            "Trainable params: 1,582,420\n",
            "Non-trainable params: 0\n",
            "_________________________________________________________________\n",
            "None\n"
          ],
          "name": "stdout"
        }
      ]
    },
    {
      "cell_type": "markdown",
      "metadata": {
        "id": "k9RCLIwr_VgY",
        "colab_type": "text"
      },
      "source": [
        "**Train model**"
      ]
    },
    {
      "cell_type": "code",
      "metadata": {
        "id": "VWFR5T2WUOrs",
        "colab_type": "code",
        "colab": {
          "base_uri": "https://localhost:8080/",
          "height": 1000
        },
        "outputId": "ae24a31b-b31a-4a72-e916-7c8b8e3b7c19"
      },
      "source": [
        "history = model.fit(X_train, y_train, epochs=epochs, batch_size=batch_size,validation_split=0.2,callbacks=[EarlyStopping(monitor='val_loss',patience=7, min_delta=0.0001)])"
      ],
      "execution_count": null,
      "outputs": [
        {
          "output_type": "stream",
          "text": [
            "/usr/local/lib/python3.6/dist-packages/tensorflow/python/framework/indexed_slices.py:434: UserWarning: Converting sparse IndexedSlices to a dense Tensor of unknown shape. This may consume a large amount of memory.\n",
            "  \"Converting sparse IndexedSlices to a dense Tensor of unknown shape. \"\n"
          ],
          "name": "stderr"
        },
        {
          "output_type": "stream",
          "text": [
            "Train on 25600 samples, validate on 6400 samples\n",
            "Epoch 1/35\n",
            "25600/25600 [==============================] - 47s 2ms/step - loss: 2.9412 - acc: 0.0965 - val_loss: 2.9165 - val_acc: 0.0986\n",
            "Epoch 2/35\n",
            "25600/25600 [==============================] - 46s 2ms/step - loss: 2.8424 - acc: 0.1171 - val_loss: 2.6411 - val_acc: 0.1739\n",
            "Epoch 3/35\n",
            "25600/25600 [==============================] - 46s 2ms/step - loss: 2.6590 - acc: 0.1592 - val_loss: 2.4734 - val_acc: 0.2319\n",
            "Epoch 4/35\n",
            "25600/25600 [==============================] - 46s 2ms/step - loss: 2.5199 - acc: 0.1982 - val_loss: 2.3375 - val_acc: 0.2661\n",
            "Epoch 5/35\n",
            "25600/25600 [==============================] - 46s 2ms/step - loss: 2.4243 - acc: 0.2237 - val_loss: 2.2016 - val_acc: 0.3267\n",
            "Epoch 6/35\n",
            "25600/25600 [==============================] - 46s 2ms/step - loss: 2.3132 - acc: 0.2613 - val_loss: 2.0597 - val_acc: 0.3708\n",
            "Epoch 7/35\n",
            "25600/25600 [==============================] - 46s 2ms/step - loss: 2.2000 - acc: 0.2996 - val_loss: 1.9660 - val_acc: 0.4028\n",
            "Epoch 8/35\n",
            "25600/25600 [==============================] - 47s 2ms/step - loss: 2.0959 - acc: 0.3298 - val_loss: 1.8266 - val_acc: 0.4545\n",
            "Epoch 9/35\n",
            "25600/25600 [==============================] - 47s 2ms/step - loss: 1.9918 - acc: 0.3677 - val_loss: 1.7310 - val_acc: 0.4820\n",
            "Epoch 10/35\n",
            "25600/25600 [==============================] - 47s 2ms/step - loss: 1.8952 - acc: 0.3981 - val_loss: 1.6607 - val_acc: 0.5089\n",
            "Epoch 11/35\n",
            "25600/25600 [==============================] - 47s 2ms/step - loss: 1.8182 - acc: 0.4228 - val_loss: 1.6137 - val_acc: 0.5180\n",
            "Epoch 12/35\n",
            "25600/25600 [==============================] - 47s 2ms/step - loss: 1.7363 - acc: 0.4474 - val_loss: 1.5523 - val_acc: 0.5361\n",
            "Epoch 13/35\n",
            "25600/25600 [==============================] - 47s 2ms/step - loss: 1.6723 - acc: 0.4735 - val_loss: 1.5017 - val_acc: 0.5562\n",
            "Epoch 14/35\n",
            "25600/25600 [==============================] - 48s 2ms/step - loss: 1.6126 - acc: 0.4917 - val_loss: 1.4742 - val_acc: 0.5695\n",
            "Epoch 15/35\n",
            "25600/25600 [==============================] - 46s 2ms/step - loss: 1.5626 - acc: 0.5068 - val_loss: 1.4651 - val_acc: 0.5758\n",
            "Epoch 16/35\n",
            "25600/25600 [==============================] - 46s 2ms/step - loss: 1.5189 - acc: 0.5224 - val_loss: 1.4461 - val_acc: 0.5808\n",
            "Epoch 17/35\n",
            "25600/25600 [==============================] - 48s 2ms/step - loss: 1.4717 - acc: 0.5354 - val_loss: 1.4220 - val_acc: 0.5923\n",
            "Epoch 18/35\n",
            "25600/25600 [==============================] - 47s 2ms/step - loss: 1.4387 - acc: 0.5478 - val_loss: 1.4290 - val_acc: 0.5975\n",
            "Epoch 19/35\n",
            "25600/25600 [==============================] - 47s 2ms/step - loss: 1.4138 - acc: 0.5607 - val_loss: 1.3919 - val_acc: 0.6044\n",
            "Epoch 20/35\n",
            "25600/25600 [==============================] - 46s 2ms/step - loss: 1.3889 - acc: 0.5654 - val_loss: 1.4029 - val_acc: 0.6059\n",
            "Epoch 21/35\n",
            "25600/25600 [==============================] - 46s 2ms/step - loss: 1.3538 - acc: 0.5776 - val_loss: 1.4077 - val_acc: 0.6095\n",
            "Epoch 22/35\n",
            "25600/25600 [==============================] - 47s 2ms/step - loss: 1.3258 - acc: 0.5836 - val_loss: 1.3933 - val_acc: 0.6175\n",
            "Epoch 23/35\n",
            "25600/25600 [==============================] - 48s 2ms/step - loss: 1.3008 - acc: 0.5920 - val_loss: 1.3891 - val_acc: 0.6211\n",
            "Epoch 24/35\n",
            "25600/25600 [==============================] - 51s 2ms/step - loss: 1.2832 - acc: 0.5976 - val_loss: 1.3986 - val_acc: 0.6211\n",
            "Epoch 25/35\n",
            "25600/25600 [==============================] - 46s 2ms/step - loss: 1.2650 - acc: 0.6044 - val_loss: 1.3866 - val_acc: 0.6280\n",
            "Epoch 26/35\n",
            "25600/25600 [==============================] - 49s 2ms/step - loss: 1.2331 - acc: 0.6130 - val_loss: 1.4108 - val_acc: 0.6264\n",
            "Epoch 27/35\n",
            "25600/25600 [==============================] - 46s 2ms/step - loss: 1.2147 - acc: 0.6207 - val_loss: 1.4154 - val_acc: 0.6242\n",
            "Epoch 28/35\n",
            "25600/25600 [==============================] - 46s 2ms/step - loss: 1.2085 - acc: 0.6200 - val_loss: 1.3945 - val_acc: 0.6294\n",
            "Epoch 29/35\n",
            "25600/25600 [==============================] - 46s 2ms/step - loss: 1.1798 - acc: 0.6313 - val_loss: 1.3917 - val_acc: 0.6325\n",
            "Epoch 30/35\n",
            "25600/25600 [==============================] - 49s 2ms/step - loss: 1.1737 - acc: 0.6345 - val_loss: 1.4001 - val_acc: 0.6277\n",
            "Epoch 31/35\n",
            "25600/25600 [==============================] - 47s 2ms/step - loss: 1.1528 - acc: 0.6392 - val_loss: 1.4214 - val_acc: 0.6273\n",
            "Epoch 32/35\n",
            "25600/25600 [==============================] - 49s 2ms/step - loss: 1.1305 - acc: 0.6448 - val_loss: 1.4231 - val_acc: 0.6316\n"
          ],
          "name": "stdout"
        }
      ]
    },
    {
      "cell_type": "code",
      "metadata": {
        "id": "nnLHZ4XYW_qm",
        "colab_type": "code",
        "colab": {}
      },
      "source": [
        ""
      ],
      "execution_count": null,
      "outputs": []
    },
    {
      "cell_type": "markdown",
      "metadata": {
        "id": "JhTflN4B_eye",
        "colab_type": "text"
      },
      "source": [
        "**Evaluate model performance**"
      ]
    },
    {
      "cell_type": "code",
      "metadata": {
        "id": "XZIa4tXXW_uI",
        "colab_type": "code",
        "colab": {
          "base_uri": "https://localhost:8080/",
          "height": 34
        },
        "outputId": "3e0b0cf7-dca2-49b2-98a4-4caa65a95430"
      },
      "source": [
        "print(history)"
      ],
      "execution_count": null,
      "outputs": [
        {
          "output_type": "stream",
          "text": [
            "<keras.callbacks.callbacks.History object at 0x7f4d9140f0b8>\n"
          ],
          "name": "stdout"
        }
      ]
    },
    {
      "cell_type": "code",
      "metadata": {
        "id": "oMszhbVnVWRS",
        "colab_type": "code",
        "colab": {
          "base_uri": "https://localhost:8080/",
          "height": 85
        },
        "outputId": "0ad17285-89bc-40f7-e14f-ed9f244b159f"
      },
      "source": [
        "accur = model.evaluate(X_test,y_test)\n",
        "print('Test set\\n  Loss: {:0.3f}\\n  Accuracy: {:0.3f}'.format(accur[0],accur[1]))"
      ],
      "execution_count": null,
      "outputs": [
        {
          "output_type": "stream",
          "text": [
            "8000/8000 [==============================] - 3s 377us/step\n",
            "Test set\n",
            "  Loss: 1.454\n",
            "  Accuracy: 0.621\n"
          ],
          "name": "stdout"
        }
      ]
    },
    {
      "cell_type": "code",
      "metadata": {
        "id": "xBDWxo74Bv7o",
        "colab_type": "code",
        "colab": {
          "base_uri": "https://localhost:8080/",
          "height": 545
        },
        "outputId": "9cdb25a4-0847-4a55-9c36-1f7e8bb52c78"
      },
      "source": [
        "\n",
        "import matplotlib.pyplot as plt\n",
        "acc = history.history['acc']\n",
        "val_acc = history.history['val_acc']\n",
        "loss = history.history['loss']\n",
        "val_loss = history.history['val_loss']\n",
        "epochs = range(1, len(acc) + 1)\n",
        "\n",
        "plt.title('Training and validation accuracy')\n",
        "plt.plot(epochs, acc, 'red', label='Training acc')\n",
        "plt.plot(epochs, val_acc, 'blue', label='Validation acc')\n",
        "plt.legend()\n",
        "\n",
        "plt.figure()\n",
        "plt.title('Training and validation loss')\n",
        "plt.plot(epochs, loss, 'red', label='Training loss')\n",
        "plt.plot(epochs, val_loss, 'blue', label='Validation loss')\n",
        "plt.legend()\n",
        "\n",
        "plt.show()"
      ],
      "execution_count": null,
      "outputs": [
        {
          "output_type": "display_data",
          "data": {
            "image/png": "[encoded data removed]",
            "text/plain": [
              "<Figure size 432x288 with 1 Axes>"
            ]
          },
          "metadata": {
            "tags": [],
            "needs_background": "light"
          }
        },
        {
          "output_type": "display_data",
          "data": {
            "image/png": "[encoded data removed]",
            "text/plain": [
              "<Figure size 432x288 with 1 Axes>"
            ]
          },
          "metadata": {
            "tags": [],
            "needs_background": "light"
          }
        }
      ]
    },
    {
      "cell_type": "markdown",
      "metadata": {
        "id": "HSAXwdY__nzg",
        "colab_type": "text"
      },
      "source": [
        "**Confusion Matrix**"
      ]
    },
    {
      "cell_type": "code",
      "metadata": {
        "id": "6xzD-mtEBwr4",
        "colab_type": "code",
        "colab": {
          "base_uri": "https://localhost:8080/",
          "height": 638
        },
        "outputId": "1d029f75-3a82-46a7-ceef-6893bafca827"
      },
      "source": [
        "#confusion matrix\n",
        "from sklearn.metrics import confusion_matrix\n",
        "predicted = model.predict(X_test)\n",
        "cm = pd.DataFrame(confusion_matrix(y_test.argmax(axis=1), predicted.argmax(axis=1)))\n",
        "\n",
        "from IPython.display import display\n",
        "pd.options.display.max_columns = None\n",
        "display(cm)"
      ],
      "execution_count": null,
      "outputs": [
        {
          "output_type": "display_data",
          "data": {
            "text/html": [
              "<div>\n",
              "<style scoped>\n",
              "    .dataframe tbody tr th:only-of-type {\n",
              "        vertical-align: middle;\n",
              "    }\n",
              "\n",
              "    .dataframe tbody tr th {\n",
              "        vertical-align: top;\n",
              "    }\n",
              "\n",
              "    .dataframe thead th {\n",
              "        text-align: right;\n",
              "    }\n",
              "</style>\n",
              "<table border=\"1\" class=\"dataframe\">\n",
              "  <thead>\n",
              "    <tr style=\"text-align: right;\">\n",
              "      <th></th>\n",
              "      <th>0</th>\n",
              "      <th>1</th>\n",
              "      <th>2</th>\n",
              "      <th>3</th>\n",
              "      <th>4</th>\n",
              "      <th>5</th>\n",
              "      <th>6</th>\n",
              "      <th>7</th>\n",
              "      <th>8</th>\n",
              "      <th>9</th>\n",
              "      <th>10</th>\n",
              "      <th>11</th>\n",
              "      <th>12</th>\n",
              "      <th>13</th>\n",
              "      <th>14</th>\n",
              "      <th>15</th>\n",
              "      <th>16</th>\n",
              "      <th>17</th>\n",
              "      <th>18</th>\n",
              "    </tr>\n",
              "  </thead>\n",
              "  <tbody>\n",
              "    <tr>\n",
              "      <th>0</th>\n",
              "      <td>493</td>\n",
              "      <td>4</td>\n",
              "      <td>23</td>\n",
              "      <td>5</td>\n",
              "      <td>10</td>\n",
              "      <td>35</td>\n",
              "      <td>15</td>\n",
              "      <td>22</td>\n",
              "      <td>19</td>\n",
              "      <td>7</td>\n",
              "      <td>24</td>\n",
              "      <td>37</td>\n",
              "      <td>11</td>\n",
              "      <td>15</td>\n",
              "      <td>15</td>\n",
              "      <td>7</td>\n",
              "      <td>19</td>\n",
              "      <td>10</td>\n",
              "      <td>37</td>\n",
              "    </tr>\n",
              "    <tr>\n",
              "      <th>1</th>\n",
              "      <td>14</td>\n",
              "      <td>197</td>\n",
              "      <td>16</td>\n",
              "      <td>4</td>\n",
              "      <td>7</td>\n",
              "      <td>26</td>\n",
              "      <td>20</td>\n",
              "      <td>50</td>\n",
              "      <td>3</td>\n",
              "      <td>15</td>\n",
              "      <td>12</td>\n",
              "      <td>14</td>\n",
              "      <td>8</td>\n",
              "      <td>23</td>\n",
              "      <td>5</td>\n",
              "      <td>2</td>\n",
              "      <td>5</td>\n",
              "      <td>2</td>\n",
              "      <td>5</td>\n",
              "    </tr>\n",
              "    <tr>\n",
              "      <th>2</th>\n",
              "      <td>27</td>\n",
              "      <td>12</td>\n",
              "      <td>280</td>\n",
              "      <td>11</td>\n",
              "      <td>15</td>\n",
              "      <td>12</td>\n",
              "      <td>8</td>\n",
              "      <td>7</td>\n",
              "      <td>0</td>\n",
              "      <td>3</td>\n",
              "      <td>8</td>\n",
              "      <td>4</td>\n",
              "      <td>7</td>\n",
              "      <td>10</td>\n",
              "      <td>4</td>\n",
              "      <td>3</td>\n",
              "      <td>2</td>\n",
              "      <td>0</td>\n",
              "      <td>3</td>\n",
              "    </tr>\n",
              "    <tr>\n",
              "      <th>3</th>\n",
              "      <td>10</td>\n",
              "      <td>2</td>\n",
              "      <td>6</td>\n",
              "      <td>300</td>\n",
              "      <td>6</td>\n",
              "      <td>1</td>\n",
              "      <td>2</td>\n",
              "      <td>8</td>\n",
              "      <td>0</td>\n",
              "      <td>4</td>\n",
              "      <td>6</td>\n",
              "      <td>1</td>\n",
              "      <td>7</td>\n",
              "      <td>13</td>\n",
              "      <td>8</td>\n",
              "      <td>2</td>\n",
              "      <td>0</td>\n",
              "      <td>3</td>\n",
              "      <td>9</td>\n",
              "    </tr>\n",
              "    <tr>\n",
              "      <th>4</th>\n",
              "      <td>4</td>\n",
              "      <td>5</td>\n",
              "      <td>5</td>\n",
              "      <td>9</td>\n",
              "      <td>298</td>\n",
              "      <td>2</td>\n",
              "      <td>7</td>\n",
              "      <td>7</td>\n",
              "      <td>3</td>\n",
              "      <td>2</td>\n",
              "      <td>3</td>\n",
              "      <td>3</td>\n",
              "      <td>2</td>\n",
              "      <td>7</td>\n",
              "      <td>7</td>\n",
              "      <td>4</td>\n",
              "      <td>1</td>\n",
              "      <td>1</td>\n",
              "      <td>19</td>\n",
              "    </tr>\n",
              "    <tr>\n",
              "      <th>5</th>\n",
              "      <td>36</td>\n",
              "      <td>13</td>\n",
              "      <td>10</td>\n",
              "      <td>2</td>\n",
              "      <td>4</td>\n",
              "      <td>216</td>\n",
              "      <td>31</td>\n",
              "      <td>4</td>\n",
              "      <td>5</td>\n",
              "      <td>9</td>\n",
              "      <td>13</td>\n",
              "      <td>20</td>\n",
              "      <td>14</td>\n",
              "      <td>6</td>\n",
              "      <td>6</td>\n",
              "      <td>13</td>\n",
              "      <td>5</td>\n",
              "      <td>4</td>\n",
              "      <td>1</td>\n",
              "    </tr>\n",
              "    <tr>\n",
              "      <th>6</th>\n",
              "      <td>7</td>\n",
              "      <td>2</td>\n",
              "      <td>1</td>\n",
              "      <td>0</td>\n",
              "      <td>5</td>\n",
              "      <td>5</td>\n",
              "      <td>296</td>\n",
              "      <td>1</td>\n",
              "      <td>0</td>\n",
              "      <td>2</td>\n",
              "      <td>1</td>\n",
              "      <td>17</td>\n",
              "      <td>0</td>\n",
              "      <td>0</td>\n",
              "      <td>0</td>\n",
              "      <td>4</td>\n",
              "      <td>9</td>\n",
              "      <td>1</td>\n",
              "      <td>6</td>\n",
              "    </tr>\n",
              "    <tr>\n",
              "      <th>7</th>\n",
              "      <td>20</td>\n",
              "      <td>13</td>\n",
              "      <td>4</td>\n",
              "      <td>5</td>\n",
              "      <td>7</td>\n",
              "      <td>5</td>\n",
              "      <td>14</td>\n",
              "      <td>290</td>\n",
              "      <td>1</td>\n",
              "      <td>4</td>\n",
              "      <td>5</td>\n",
              "      <td>12</td>\n",
              "      <td>1</td>\n",
              "      <td>10</td>\n",
              "      <td>0</td>\n",
              "      <td>13</td>\n",
              "      <td>2</td>\n",
              "      <td>4</td>\n",
              "      <td>10</td>\n",
              "    </tr>\n",
              "    <tr>\n",
              "      <th>8</th>\n",
              "      <td>25</td>\n",
              "      <td>9</td>\n",
              "      <td>0</td>\n",
              "      <td>0</td>\n",
              "      <td>4</td>\n",
              "      <td>9</td>\n",
              "      <td>11</td>\n",
              "      <td>4</td>\n",
              "      <td>285</td>\n",
              "      <td>3</td>\n",
              "      <td>8</td>\n",
              "      <td>62</td>\n",
              "      <td>1</td>\n",
              "      <td>3</td>\n",
              "      <td>2</td>\n",
              "      <td>3</td>\n",
              "      <td>1</td>\n",
              "      <td>9</td>\n",
              "      <td>12</td>\n",
              "    </tr>\n",
              "    <tr>\n",
              "      <th>9</th>\n",
              "      <td>15</td>\n",
              "      <td>12</td>\n",
              "      <td>1</td>\n",
              "      <td>5</td>\n",
              "      <td>9</td>\n",
              "      <td>6</td>\n",
              "      <td>6</td>\n",
              "      <td>1</td>\n",
              "      <td>0</td>\n",
              "      <td>266</td>\n",
              "      <td>0</td>\n",
              "      <td>19</td>\n",
              "      <td>5</td>\n",
              "      <td>7</td>\n",
              "      <td>2</td>\n",
              "      <td>30</td>\n",
              "      <td>27</td>\n",
              "      <td>1</td>\n",
              "      <td>3</td>\n",
              "    </tr>\n",
              "    <tr>\n",
              "      <th>10</th>\n",
              "      <td>55</td>\n",
              "      <td>10</td>\n",
              "      <td>11</td>\n",
              "      <td>6</td>\n",
              "      <td>7</td>\n",
              "      <td>29</td>\n",
              "      <td>5</td>\n",
              "      <td>4</td>\n",
              "      <td>12</td>\n",
              "      <td>3</td>\n",
              "      <td>184</td>\n",
              "      <td>2</td>\n",
              "      <td>6</td>\n",
              "      <td>31</td>\n",
              "      <td>6</td>\n",
              "      <td>3</td>\n",
              "      <td>3</td>\n",
              "      <td>8</td>\n",
              "      <td>18</td>\n",
              "    </tr>\n",
              "    <tr>\n",
              "      <th>11</th>\n",
              "      <td>11</td>\n",
              "      <td>5</td>\n",
              "      <td>0</td>\n",
              "      <td>3</td>\n",
              "      <td>0</td>\n",
              "      <td>8</td>\n",
              "      <td>21</td>\n",
              "      <td>6</td>\n",
              "      <td>7</td>\n",
              "      <td>3</td>\n",
              "      <td>1</td>\n",
              "      <td>336</td>\n",
              "      <td>0</td>\n",
              "      <td>0</td>\n",
              "      <td>0</td>\n",
              "      <td>4</td>\n",
              "      <td>6</td>\n",
              "      <td>0</td>\n",
              "      <td>1</td>\n",
              "    </tr>\n",
              "    <tr>\n",
              "      <th>12</th>\n",
              "      <td>54</td>\n",
              "      <td>41</td>\n",
              "      <td>36</td>\n",
              "      <td>4</td>\n",
              "      <td>7</td>\n",
              "      <td>53</td>\n",
              "      <td>12</td>\n",
              "      <td>16</td>\n",
              "      <td>3</td>\n",
              "      <td>32</td>\n",
              "      <td>20</td>\n",
              "      <td>7</td>\n",
              "      <td>80</td>\n",
              "      <td>12</td>\n",
              "      <td>7</td>\n",
              "      <td>1</td>\n",
              "      <td>11</td>\n",
              "      <td>4</td>\n",
              "      <td>2</td>\n",
              "    </tr>\n",
              "    <tr>\n",
              "      <th>13</th>\n",
              "      <td>5</td>\n",
              "      <td>12</td>\n",
              "      <td>16</td>\n",
              "      <td>20</td>\n",
              "      <td>8</td>\n",
              "      <td>3</td>\n",
              "      <td>5</td>\n",
              "      <td>5</td>\n",
              "      <td>1</td>\n",
              "      <td>8</td>\n",
              "      <td>10</td>\n",
              "      <td>1</td>\n",
              "      <td>7</td>\n",
              "      <td>225</td>\n",
              "      <td>10</td>\n",
              "      <td>1</td>\n",
              "      <td>2</td>\n",
              "      <td>1</td>\n",
              "      <td>7</td>\n",
              "    </tr>\n",
              "    <tr>\n",
              "      <th>14</th>\n",
              "      <td>33</td>\n",
              "      <td>2</td>\n",
              "      <td>11</td>\n",
              "      <td>9</td>\n",
              "      <td>3</td>\n",
              "      <td>13</td>\n",
              "      <td>2</td>\n",
              "      <td>3</td>\n",
              "      <td>5</td>\n",
              "      <td>3</td>\n",
              "      <td>4</td>\n",
              "      <td>4</td>\n",
              "      <td>5</td>\n",
              "      <td>12</td>\n",
              "      <td>255</td>\n",
              "      <td>6</td>\n",
              "      <td>0</td>\n",
              "      <td>1</td>\n",
              "      <td>6</td>\n",
              "    </tr>\n",
              "    <tr>\n",
              "      <th>15</th>\n",
              "      <td>22</td>\n",
              "      <td>1</td>\n",
              "      <td>2</td>\n",
              "      <td>6</td>\n",
              "      <td>5</td>\n",
              "      <td>29</td>\n",
              "      <td>8</td>\n",
              "      <td>11</td>\n",
              "      <td>0</td>\n",
              "      <td>27</td>\n",
              "      <td>5</td>\n",
              "      <td>6</td>\n",
              "      <td>2</td>\n",
              "      <td>6</td>\n",
              "      <td>5</td>\n",
              "      <td>229</td>\n",
              "      <td>6</td>\n",
              "      <td>1</td>\n",
              "      <td>5</td>\n",
              "    </tr>\n",
              "    <tr>\n",
              "      <th>16</th>\n",
              "      <td>30</td>\n",
              "      <td>5</td>\n",
              "      <td>6</td>\n",
              "      <td>3</td>\n",
              "      <td>6</td>\n",
              "      <td>7</td>\n",
              "      <td>26</td>\n",
              "      <td>8</td>\n",
              "      <td>5</td>\n",
              "      <td>18</td>\n",
              "      <td>1</td>\n",
              "      <td>38</td>\n",
              "      <td>4</td>\n",
              "      <td>0</td>\n",
              "      <td>7</td>\n",
              "      <td>8</td>\n",
              "      <td>226</td>\n",
              "      <td>3</td>\n",
              "      <td>4</td>\n",
              "    </tr>\n",
              "    <tr>\n",
              "      <th>17</th>\n",
              "      <td>14</td>\n",
              "      <td>3</td>\n",
              "      <td>0</td>\n",
              "      <td>2</td>\n",
              "      <td>3</td>\n",
              "      <td>6</td>\n",
              "      <td>2</td>\n",
              "      <td>5</td>\n",
              "      <td>11</td>\n",
              "      <td>0</td>\n",
              "      <td>7</td>\n",
              "      <td>17</td>\n",
              "      <td>2</td>\n",
              "      <td>2</td>\n",
              "      <td>1</td>\n",
              "      <td>0</td>\n",
              "      <td>8</td>\n",
              "      <td>296</td>\n",
              "      <td>3</td>\n",
              "    </tr>\n",
              "    <tr>\n",
              "      <th>18</th>\n",
              "      <td>45</td>\n",
              "      <td>2</td>\n",
              "      <td>5</td>\n",
              "      <td>6</td>\n",
              "      <td>23</td>\n",
              "      <td>3</td>\n",
              "      <td>9</td>\n",
              "      <td>11</td>\n",
              "      <td>29</td>\n",
              "      <td>3</td>\n",
              "      <td>19</td>\n",
              "      <td>6</td>\n",
              "      <td>0</td>\n",
              "      <td>19</td>\n",
              "      <td>5</td>\n",
              "      <td>7</td>\n",
              "      <td>2</td>\n",
              "      <td>4</td>\n",
              "      <td>214</td>\n",
              "    </tr>\n",
              "  </tbody>\n",
              "</table>\n",
              "</div>"
            ],
            "text/plain": [
              "      0    1    2    3    4    5    6    7    8    9   10   11  12   13   14  \\\n",
              "0   493    4   23    5   10   35   15   22   19    7   24   37  11   15   15   \n",
              "1    14  197   16    4    7   26   20   50    3   15   12   14   8   23    5   \n",
              "2    27   12  280   11   15   12    8    7    0    3    8    4   7   10    4   \n",
              "3    10    2    6  300    6    1    2    8    0    4    6    1   7   13    8   \n",
              "4     4    5    5    9  298    2    7    7    3    2    3    3   2    7    7   \n",
              "5    36   13   10    2    4  216   31    4    5    9   13   20  14    6    6   \n",
              "6     7    2    1    0    5    5  296    1    0    2    1   17   0    0    0   \n",
              "7    20   13    4    5    7    5   14  290    1    4    5   12   1   10    0   \n",
              "8    25    9    0    0    4    9   11    4  285    3    8   62   1    3    2   \n",
              "9    15   12    1    5    9    6    6    1    0  266    0   19   5    7    2   \n",
              "10   55   10   11    6    7   29    5    4   12    3  184    2   6   31    6   \n",
              "11   11    5    0    3    0    8   21    6    7    3    1  336   0    0    0   \n",
              "12   54   41   36    4    7   53   12   16    3   32   20    7  80   12    7   \n",
              "13    5   12   16   20    8    3    5    5    1    8   10    1   7  225   10   \n",
              "14   33    2   11    9    3   13    2    3    5    3    4    4   5   12  255   \n",
              "15   22    1    2    6    5   29    8   11    0   27    5    6   2    6    5   \n",
              "16   30    5    6    3    6    7   26    8    5   18    1   38   4    0    7   \n",
              "17   14    3    0    2    3    6    2    5   11    0    7   17   2    2    1   \n",
              "18   45    2    5    6   23    3    9   11   29    3   19    6   0   19    5   \n",
              "\n",
              "     15   16   17   18  \n",
              "0     7   19   10   37  \n",
              "1     2    5    2    5  \n",
              "2     3    2    0    3  \n",
              "3     2    0    3    9  \n",
              "4     4    1    1   19  \n",
              "5    13    5    4    1  \n",
              "6     4    9    1    6  \n",
              "7    13    2    4   10  \n",
              "8     3    1    9   12  \n",
              "9    30   27    1    3  \n",
              "10    3    3    8   18  \n",
              "11    4    6    0    1  \n",
              "12    1   11    4    2  \n",
              "13    1    2    1    7  \n",
              "14    6    0    1    6  \n",
              "15  229    6    1    5  \n",
              "16    8  226    3    4  \n",
              "17    0    8  296    3  \n",
              "18    7    2    4  214  "
            ]
          },
          "metadata": {
            "tags": []
          }
        }
      ]
    },
    {
      "cell_type": "markdown",
      "metadata": {
        "id": "pxWQ24dQ_ux3",
        "colab_type": "text"
      },
      "source": [
        "**Predict Category on random input**"
      ]
    },
    {
      "cell_type": "markdown",
      "metadata": {
        "id": "uCfGimE4_7DX",
        "colab_type": "text"
      },
      "source": [
        "*assign any input text. for example i have given news headline and model predicted correctly that given input belongs to \"Business\" categories  *"
      ]
    },
    {
      "cell_type": "code",
      "metadata": {
        "id": "IVaAneroDU7D",
        "colab_type": "code",
        "colab": {
          "base_uri": "https://localhost:8080/",
          "height": 102
        },
        "outputId": "e0a2afce-ce88-4a62-bb2a-1ecab5c7dedd"
      },
      "source": [
        "txt = [\"The coronavirus will push the euro zone economy into an unprecedented peacetime slump, European Central Bank chief Christine Lagarde said today, vowing to use all the bank's tools to help combat the downturn.\"]\n",
        "seq = tokenizer.texts_to_sequences(txt)\n",
        "padded = pad_sequences(seq, maxlen=max_len)\n",
        "pred = model.predict(padded)\n",
        "labels = ['ENTERTAINMENT', 'BUSINESS', 'LIVING', 'ARTS','WELLNESS']\n",
        "print(pred, labels[np.argmax(pred)])"
      ],
      "execution_count": null,
      "outputs": [
        {
          "output_type": "stream",
          "text": [
            "[[2.75130937e-04 9.11123335e-01 2.47273427e-02 1.01765741e-04\n",
            "  8.26341056e-05 3.94957792e-03 1.21609622e-03 2.98607331e-02\n",
            "  2.31509548e-05 1.33656710e-03 5.11441962e-04 1.15249735e-04\n",
            "  2.34042630e-02 1.86114857e-09 2.70619383e-03 1.67871054e-04\n",
            "  5.94443482e-05 3.10774049e-04 1.93183641e-05 9.03067212e-06]] BUSINESS\n"
          ],
          "name": "stdout"
        }
      ]
    },
    {
      "cell_type": "code",
      "metadata": {
        "id": "R6jIqDJiNRtv",
        "colab_type": "code",
        "colab": {}
      },
      "source": [
        ""
      ],
      "execution_count": null,
      "outputs": []
    },
    {
      "cell_type": "markdown",
      "metadata": {
        "id": "GkaHQWucA_AA",
        "colab_type": "text"
      },
      "source": [
        "**Thank you**\n",
        "\n",
        "\\\\\n",
        "(![alt text](https://media-exp1.licdn.com/dms/image/C561BAQGEbzpXZ34-gQ/company-background_10000/0?e=2159024400&v=beta&t=o3vOn3Ye-qpqlDH64A1of1_aRAQ8TunahPQ4ZWuISRI))"
      ]
    }
  ]
}